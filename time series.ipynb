{
 "cells": [
  {
   "cell_type": "code",
   "execution_count": 16,
   "metadata": {},
   "outputs": [],
   "source": [
    "from datetime import datetime\n",
    "import pandas as pd"
   ]
  },
  {
   "cell_type": "code",
   "execution_count": 2,
   "metadata": {},
   "outputs": [],
   "source": [
    "# 현재 시간 확인하기\n",
    "now = datetime.now()"
   ]
  },
  {
   "cell_type": "code",
   "execution_count": 3,
   "metadata": {},
   "outputs": [
    {
     "data": {
      "text/plain": [
       "datetime.datetime(2020, 7, 1, 18, 24, 40, 743471)"
      ]
     },
     "execution_count": 3,
     "metadata": {},
     "output_type": "execute_result"
    }
   ],
   "source": [
    "now"
   ]
  },
  {
   "cell_type": "code",
   "execution_count": 4,
   "metadata": {},
   "outputs": [
    {
     "data": {
      "text/plain": [
       "(2020, 7, 1)"
      ]
     },
     "execution_count": 4,
     "metadata": {},
     "output_type": "execute_result"
    }
   ],
   "source": [
    "# 연,월,일\n",
    "now.year,now.month,now.day"
   ]
  },
  {
   "cell_type": "code",
   "execution_count": 5,
   "metadata": {},
   "outputs": [],
   "source": [
    "# 문자열 변환하기\n",
    "stamp = datetime(2020,7,1)"
   ]
  },
  {
   "cell_type": "code",
   "execution_count": 6,
   "metadata": {},
   "outputs": [
    {
     "data": {
      "text/plain": [
       "'2020-07-01 00:00:00'"
      ]
     },
     "execution_count": 6,
     "metadata": {},
     "output_type": "execute_result"
    }
   ],
   "source": [
    "str(stamp)"
   ]
  },
  {
   "cell_type": "code",
   "execution_count": 8,
   "metadata": {},
   "outputs": [
    {
     "data": {
      "text/plain": [
       "'2020-07-01'"
      ]
     },
     "execution_count": 8,
     "metadata": {},
     "output_type": "execute_result"
    }
   ],
   "source": [
    "# 변환한 문자열을 날짜로 매핑\n",
    "stamp.strftime(\"%Y-%m-%d\")"
   ]
  },
  {
   "cell_type": "code",
   "execution_count": 10,
   "metadata": {},
   "outputs": [],
   "source": [
    "# 알려진 형식의 날짜를 파싱\n",
    "from dateutil.parser import parse"
   ]
  },
  {
   "cell_type": "code",
   "execution_count": 13,
   "metadata": {},
   "outputs": [
    {
     "data": {
      "text/plain": [
       "datetime.datetime(2020, 7, 1, 0, 0)"
      ]
     },
     "execution_count": 13,
     "metadata": {},
     "output_type": "execute_result"
    }
   ],
   "source": [
    "parse(\"2020-07-01\")"
   ]
  },
  {
   "cell_type": "code",
   "execution_count": 18,
   "metadata": {},
   "outputs": [],
   "source": [
    "datestrs = [\"2020-07-01\",\"2020-07-03 00:00:00\"]"
   ]
  },
  {
   "cell_type": "code",
   "execution_count": 20,
   "metadata": {},
   "outputs": [
    {
     "data": {
      "text/plain": [
       "DatetimeIndex(['2020-07-01', '2020-07-03', 'NaT'], dtype='datetime64[ns]', freq=None)"
      ]
     },
     "execution_count": 20,
     "metadata": {},
     "output_type": "execute_result"
    }
   ],
   "source": [
    "# 누락된 값을 결측값으로 명시\n",
    "idx = pd.to_datetime(datestrs + [None])\n",
    "idx"
   ]
  },
  {
   "cell_type": "code",
   "execution_count": 21,
   "metadata": {},
   "outputs": [
    {
     "data": {
      "text/plain": [
       "array([False, False,  True])"
      ]
     },
     "execution_count": 21,
     "metadata": {},
     "output_type": "execute_result"
    }
   ],
   "source": [
    "pd.isnull(idx)"
   ]
  },
  {
   "cell_type": "markdown",
   "metadata": {},
   "source": [
    "### 시계열 기초\n",
    "\n",
    "- pandas에서 찾아볼 수 있는 가장 기본적인 시계열 객체의 종류는 파이썬 문자열이나 datetime 객체로 표현되는 타임스태프로 색인된 **Series**이다."
   ]
  },
  {
   "cell_type": "code",
   "execution_count": 26,
   "metadata": {},
   "outputs": [],
   "source": [
    "from datetime import datetime\n",
    "import numpy as np"
   ]
  },
  {
   "cell_type": "code",
   "execution_count": 24,
   "metadata": {},
   "outputs": [],
   "source": [
    "dates  = [datetime(2020,7,1),datetime(2020,7,2),\n",
    "         datetime(2020,7,3),datetime(2020,7,4),\n",
    "         datetime(2020,7,5),datetime(2020,7,6)]"
   ]
  },
  {
   "cell_type": "code",
   "execution_count": 28,
   "metadata": {},
   "outputs": [
    {
     "data": {
      "text/plain": [
       "2020-07-01    0.054274\n",
       "2020-07-02    0.403000\n",
       "2020-07-03    1.252946\n",
       "2020-07-04    0.684920\n",
       "2020-07-05   -0.635219\n",
       "2020-07-06   -1.663174\n",
       "dtype: float64"
      ]
     },
     "execution_count": 28,
     "metadata": {},
     "output_type": "execute_result"
    }
   ],
   "source": [
    "ts = pd.Series(np.random.randn(6), index = dates)\n",
    "ts"
   ]
  },
  {
   "cell_type": "code",
   "execution_count": 29,
   "metadata": {},
   "outputs": [
    {
     "data": {
      "text/plain": [
       "DatetimeIndex(['2020-07-01', '2020-07-02', '2020-07-03', '2020-07-04',\n",
       "               '2020-07-05', '2020-07-06'],\n",
       "              dtype='datetime64[ns]', freq=None)"
      ]
     },
     "execution_count": 29,
     "metadata": {},
     "output_type": "execute_result"
    }
   ],
   "source": [
    "# datetime 객체, 변수 타입 확인\n",
    "ts.index"
   ]
  },
  {
   "cell_type": "code",
   "execution_count": 30,
   "metadata": {},
   "outputs": [
    {
     "data": {
      "text/plain": [
       "2020-07-01    0.108549\n",
       "2020-07-02         NaN\n",
       "2020-07-03    2.505892\n",
       "2020-07-04         NaN\n",
       "2020-07-05   -1.270439\n",
       "2020-07-06         NaN\n",
       "dtype: float64"
      ]
     },
     "execution_count": 30,
     "metadata": {},
     "output_type": "execute_result"
    }
   ],
   "source": [
    "# 서로 다르게 색인된 시계열 객체 간의 산술 연산은 자동으로 날짜에 맞춰짐\n",
    "# ts[::2]는 매 두 번째 항목을 선택함.\n",
    "ts + ts[::2]"
   ]
  },
  {
   "cell_type": "code",
   "execution_count": 32,
   "metadata": {},
   "outputs": [
    {
     "data": {
      "text/plain": [
       "Timestamp('2020-07-01 00:00:00')"
      ]
     },
     "execution_count": 32,
     "metadata": {},
     "output_type": "execute_result"
    }
   ],
   "source": [
    "stamp = ts.index[0]\n",
    "stamp"
   ]
  },
  {
   "cell_type": "markdown",
   "metadata": {},
   "source": [
    "### 색인, 선택, 부분 선택"
   ]
  },
  {
   "cell_type": "code",
   "execution_count": 34,
   "metadata": {},
   "outputs": [
    {
     "data": {
      "text/plain": [
       "1.2529460843585667"
      ]
     },
     "execution_count": 34,
     "metadata": {},
     "output_type": "execute_result"
    }
   ],
   "source": [
    "stamp = ts.index[2]\n",
    "\n",
    "ts[stamp]"
   ]
  },
  {
   "cell_type": "code",
   "execution_count": 40,
   "metadata": {},
   "outputs": [
    {
     "name": "stdout",
     "output_type": "stream",
     "text": [
      "0.054274386836509536\n",
      "0.054274386836509536\n"
     ]
    }
   ],
   "source": [
    "# 해석할 수 있는 날짜를 문자열로 넘겨서 사용이 가능하다.\n",
    "print(ts['2020-07-01'])\n",
    "print(ts['20200701'])"
   ]
  },
  {
   "cell_type": "code",
   "execution_count": 44,
   "metadata": {},
   "outputs": [
    {
     "data": {
      "text/plain": [
       "2020-01-01    0.806950\n",
       "2020-01-02   -0.725303\n",
       "2020-01-03   -0.049932\n",
       "2020-01-04    1.559068\n",
       "2020-01-05   -1.065181\n",
       "2020-01-06   -0.966798\n",
       "2020-01-07   -0.283359\n",
       "2020-01-08   -1.431913\n",
       "2020-01-09   -0.427461\n",
       "2020-01-10   -0.931798\n",
       "2020-01-11   -0.424629\n",
       "2020-01-12   -1.691623\n",
       "2020-01-13    1.807351\n",
       "2020-01-14   -0.932666\n",
       "2020-01-15   -0.360687\n",
       "2020-01-16    0.693026\n",
       "2020-01-17    0.211050\n",
       "2020-01-18    0.609457\n",
       "2020-01-19   -0.030732\n",
       "2020-01-20    0.274425\n",
       "2020-01-21    1.029461\n",
       "2020-01-22    1.132328\n",
       "2020-01-23    0.334287\n",
       "2020-01-24    1.482782\n",
       "2020-01-25   -3.291775\n",
       "2020-01-26    0.982073\n",
       "2020-01-27    2.500419\n",
       "2020-01-28    0.437161\n",
       "2020-01-29   -0.784250\n",
       "2020-01-30   -0.276050\n",
       "                ...   \n",
       "2022-08-28   -0.594818\n",
       "2022-08-29   -1.362187\n",
       "2022-08-30   -0.294713\n",
       "2022-08-31    1.651053\n",
       "2022-09-01   -0.180731\n",
       "2022-09-02    0.019350\n",
       "2022-09-03    0.576186\n",
       "2022-09-04    0.250389\n",
       "2022-09-05   -0.547938\n",
       "2022-09-06    0.368432\n",
       "2022-09-07   -0.596214\n",
       "2022-09-08   -1.208504\n",
       "2022-09-09   -1.346556\n",
       "2022-09-10   -1.012304\n",
       "2022-09-11    0.560109\n",
       "2022-09-12    0.105211\n",
       "2022-09-13    1.026125\n",
       "2022-09-14   -0.643699\n",
       "2022-09-15   -1.900534\n",
       "2022-09-16   -0.576820\n",
       "2022-09-17    0.767568\n",
       "2022-09-18    1.254226\n",
       "2022-09-19    0.041948\n",
       "2022-09-20   -0.855496\n",
       "2022-09-21    1.036675\n",
       "2022-09-22   -1.152620\n",
       "2022-09-23   -0.522543\n",
       "2022-09-24   -1.141318\n",
       "2022-09-25    0.969407\n",
       "2022-09-26    0.390229\n",
       "Freq: D, Length: 1000, dtype: float64"
      ]
     },
     "execution_count": 44,
     "metadata": {},
     "output_type": "execute_result"
    }
   ],
   "source": [
    "# 긴 시계열에서는 연을 넘기거나 연, 월만 넘겨서 데이터의 일부 구간만 선택할 수도 있다.\n",
    "longer_ts = pd.Series(np.random.randn(1000),index = pd.date_range('1/1/2020',periods = 1000))\n",
    "longer_ts"
   ]
  },
  {
   "cell_type": "code",
   "execution_count": 46,
   "metadata": {},
   "outputs": [
    {
     "data": {
      "text/plain": [
       "2021-01-01    0.492526\n",
       "2021-01-02   -0.536421\n",
       "2021-01-03   -0.137875\n",
       "2021-01-04   -0.916347\n",
       "2021-01-05    0.210597\n",
       "2021-01-06    0.580741\n",
       "2021-01-07   -1.720000\n",
       "2021-01-08    1.546061\n",
       "2021-01-09    0.692369\n",
       "2021-01-10   -1.110015\n",
       "2021-01-11    0.744553\n",
       "2021-01-12    0.183845\n",
       "2021-01-13    0.538269\n",
       "2021-01-14    0.066876\n",
       "2021-01-15    0.401320\n",
       "2021-01-16    0.201040\n",
       "2021-01-17    0.997710\n",
       "2021-01-18   -0.262033\n",
       "2021-01-19    0.363940\n",
       "2021-01-20   -0.610084\n",
       "2021-01-21   -1.575704\n",
       "2021-01-22   -2.186575\n",
       "2021-01-23   -1.710334\n",
       "2021-01-24    0.072193\n",
       "2021-01-25    0.214304\n",
       "2021-01-26    1.864906\n",
       "2021-01-27   -0.350013\n",
       "2021-01-28   -0.285516\n",
       "2021-01-29   -0.341554\n",
       "2021-01-30    0.885437\n",
       "                ...   \n",
       "2021-12-02    0.146749\n",
       "2021-12-03    1.834164\n",
       "2021-12-04   -0.755034\n",
       "2021-12-05   -1.680480\n",
       "2021-12-06   -1.905769\n",
       "2021-12-07   -1.077578\n",
       "2021-12-08   -0.177785\n",
       "2021-12-09   -1.389382\n",
       "2021-12-10   -0.536220\n",
       "2021-12-11    0.019320\n",
       "2021-12-12   -0.471427\n",
       "2021-12-13   -0.659326\n",
       "2021-12-14   -0.475954\n",
       "2021-12-15   -1.761292\n",
       "2021-12-16    1.072237\n",
       "2021-12-17   -0.600553\n",
       "2021-12-18    1.163526\n",
       "2021-12-19    1.113334\n",
       "2021-12-20   -0.864357\n",
       "2021-12-21    0.651955\n",
       "2021-12-22    0.432190\n",
       "2021-12-23    1.143955\n",
       "2021-12-24    1.101479\n",
       "2021-12-25   -2.401004\n",
       "2021-12-26    0.399981\n",
       "2021-12-27    0.325105\n",
       "2021-12-28   -1.449776\n",
       "2021-12-29    0.886448\n",
       "2021-12-30   -0.297183\n",
       "2021-12-31    0.995581\n",
       "Freq: D, Length: 365, dtype: float64"
      ]
     },
     "execution_count": 46,
     "metadata": {},
     "output_type": "execute_result"
    }
   ],
   "source": [
    "# 2021은 연도로 해석되어 해당 기간의 데이터를 선택한다.\n",
    "longer_ts['2021']"
   ]
  },
  {
   "cell_type": "code",
   "execution_count": 47,
   "metadata": {},
   "outputs": [
    {
     "data": {
      "text/plain": [
       "2020-05-01   -1.914367\n",
       "2020-05-02   -2.172528\n",
       "2020-05-03    0.564960\n",
       "2020-05-04    2.048677\n",
       "2020-05-05    0.916654\n",
       "2020-05-06   -0.324513\n",
       "2020-05-07   -0.629943\n",
       "2020-05-08    0.871479\n",
       "2020-05-09   -0.598341\n",
       "2020-05-10    0.612794\n",
       "2020-05-11   -0.333920\n",
       "2020-05-12   -2.183572\n",
       "2020-05-13    2.056281\n",
       "2020-05-14    1.723599\n",
       "2020-05-15   -0.798565\n",
       "2020-05-16    0.065589\n",
       "2020-05-17   -1.863095\n",
       "2020-05-18   -1.822769\n",
       "2020-05-19   -0.320055\n",
       "2020-05-20   -0.745262\n",
       "2020-05-21   -1.140775\n",
       "2020-05-22   -0.351384\n",
       "2020-05-23   -1.021577\n",
       "2020-05-24   -0.500514\n",
       "2020-05-25   -0.656809\n",
       "2020-05-26   -1.073100\n",
       "2020-05-27    0.723270\n",
       "2020-05-28    1.160726\n",
       "2020-05-29   -0.067726\n",
       "2020-05-30   -0.900609\n",
       "2020-05-31   -1.064962\n",
       "Freq: D, dtype: float64"
      ]
     },
     "execution_count": 47,
     "metadata": {},
     "output_type": "execute_result"
    }
   ],
   "source": [
    "# 월도 가능하다.\n",
    "longer_ts['2020-5']"
   ]
  },
  {
   "cell_type": "code",
   "execution_count": 54,
   "metadata": {},
   "outputs": [
    {
     "data": {
      "text/plain": [
       "2020-07-01    0.054274\n",
       "2020-07-02    0.403000\n",
       "2020-07-03    1.252946\n",
       "2020-07-04    0.684920\n",
       "2020-07-05   -0.635219\n",
       "2020-07-06   -1.663174\n",
       "dtype: float64"
      ]
     },
     "execution_count": 54,
     "metadata": {},
     "output_type": "execute_result"
    }
   ],
   "source": [
    "# datetime 객체로 데이터를 잘라내는 작업은 일반적인 Series와 동일한 방식으로 할 수 있다.\n",
    "ts"
   ]
  },
  {
   "cell_type": "code",
   "execution_count": 55,
   "metadata": {},
   "outputs": [
    {
     "data": {
      "text/plain": [
       "2020-07-03    1.252946\n",
       "2020-07-04    0.684920\n",
       "2020-07-05   -0.635219\n",
       "2020-07-06   -1.663174\n",
       "dtype: float64"
      ]
     },
     "execution_count": 55,
     "metadata": {},
     "output_type": "execute_result"
    }
   ],
   "source": [
    "ts[datetime(2020,7,3) :]"
   ]
  },
  {
   "cell_type": "code",
   "execution_count": 56,
   "metadata": {},
   "outputs": [
    {
     "data": {
      "text/plain": [
       "2020-07-01    0.054274\n",
       "2020-07-02    0.403000\n",
       "2020-07-03    1.252946\n",
       "2020-07-04    0.684920\n",
       "2020-07-05   -0.635219\n",
       "dtype: float64"
      ]
     },
     "execution_count": 56,
     "metadata": {},
     "output_type": "execute_result"
    }
   ],
   "source": [
    "ts[:datetime(2020,7,5)]"
   ]
  },
  {
   "cell_type": "markdown",
   "metadata": {},
   "source": [
    "대부분의 시계열 데이터는 연대순으로 졍렬되기 때문에 범위를 지정하기 위해 시계열에 포함하지 않고 타임스탬프를 이용해서 Series를 나눌 수 있다."
   ]
  },
  {
   "cell_type": "code",
   "execution_count": 57,
   "metadata": {},
   "outputs": [
    {
     "data": {
      "text/plain": [
       "2020-07-01    0.054274\n",
       "2020-07-02    0.403000\n",
       "2020-07-03    1.252946\n",
       "2020-07-04    0.684920\n",
       "2020-07-05   -0.635219\n",
       "2020-07-06   -1.663174\n",
       "dtype: float64"
      ]
     },
     "execution_count": 57,
     "metadata": {},
     "output_type": "execute_result"
    }
   ],
   "source": [
    "ts"
   ]
  },
  {
   "cell_type": "code",
   "execution_count": 58,
   "metadata": {},
   "outputs": [
    {
     "data": {
      "text/plain": [
       "2020-07-01    0.054274\n",
       "2020-07-02    0.403000\n",
       "2020-07-03    1.252946\n",
       "dtype: float64"
      ]
     },
     "execution_count": 58,
     "metadata": {},
     "output_type": "execute_result"
    }
   ],
   "source": [
    "ts['2020/7/1' : '2020/7/3']"
   ]
  },
  {
   "cell_type": "code",
   "execution_count": 60,
   "metadata": {},
   "outputs": [
    {
     "data": {
      "text/plain": [
       "2020-07-01    0.054274\n",
       "2020-07-02    0.403000\n",
       "2020-07-03    1.252946\n",
       "dtype: float64"
      ]
     },
     "execution_count": 60,
     "metadata": {},
     "output_type": "execute_result"
    }
   ],
   "source": [
    "# 두 개의 날짜로 나누기\n",
    "\n",
    "ts.truncate(after='2020/7/3')"
   ]
  },
  {
   "cell_type": "code",
   "execution_count": null,
   "metadata": {},
   "outputs": [],
   "source": []
  },
  {
   "cell_type": "code",
   "execution_count": null,
   "metadata": {},
   "outputs": [],
   "source": []
  },
  {
   "cell_type": "code",
   "execution_count": null,
   "metadata": {},
   "outputs": [],
   "source": []
  }
 ],
 "metadata": {
  "kernelspec": {
   "display_name": "Python 3",
   "language": "python",
   "name": "python3"
  },
  "language_info": {
   "codemirror_mode": {
    "name": "ipython",
    "version": 3
   },
   "file_extension": ".py",
   "mimetype": "text/x-python",
   "name": "python",
   "nbconvert_exporter": "python",
   "pygments_lexer": "ipython3",
   "version": "3.7.3"
  }
 },
 "nbformat": 4,
 "nbformat_minor": 2
}
