{
 "cells": [
  {
   "cell_type": "code",
   "execution_count": null,
   "metadata": {
    "colab": {},
    "colab_type": "code",
    "id": "MwcWwNj-AetL"
   },
   "outputs": [],
   "source": [
    "import pandas as pd\n",
    "import numpy as np\n",
    "from pandas import read_csv\n",
    "from datetime import datetime\n",
    "from pandas import DataFrame\n",
    "from sklearn import preprocessing\n",
    "from sklearn.metrics import mean_squared_error\n",
    "from matplotlib import pyplot"
   ]
  },
  {
   "cell_type": "markdown",
   "metadata": {
    "colab_type": "text",
    "id": "eEvtPl_24mUg"
   },
   "source": [
    "##여기서부터 태양광발전량 \n"
   ]
  },
  {
   "cell_type": "markdown",
   "metadata": {
    "colab_type": "text",
    "id": "7B1UHJtAQzc-"
   },
   "source": [
    "태양광발전 데이터 = data \n",
    "\n",
    "외생변수 데이터 = forecast"
   ]
  },
  {
   "cell_type": "code",
   "execution_count": null,
   "metadata": {
    "colab": {},
    "colab_type": "code",
    "id": "H0ySo3VI4r79"
   },
   "outputs": [],
   "source": [
    "data = pd.read_csv(\"./sample_data/SolarPV_Elec_Problem.csv\", header=None, names=[\"Date\", \"Value\"])\n",
    "data"
   ]
  },
  {
   "cell_type": "code",
   "execution_count": null,
   "metadata": {
    "colab": {},
    "colab_type": "code",
    "id": "w4qvoCH0HtXD"
   },
   "outputs": [],
   "source": [
    "forecast = pd.read_excel('./sample_data/OBS_ASOS_TIM_20200702160352.xlsx',\n",
    "                         names=[\"Date\", \"Temp\", \"Prec\", \"Wind_S\", \"Wind_D\", \"Humidity\", \"Pressure\", \"Sunshine\",\n",
    "                                \"Insolation\", \"Snow\", \"Cloud\", \"Municipal\", \"Ground_Temp\"])\n",
    "forecast"
   ]
  },
  {
   "cell_type": "markdown",
   "metadata": {
    "colab_type": "text",
    "id": "b_OciettQjTp"
   },
   "source": [
    "외생변수 결측값 대체.  0, 평균 순서대로\n"
   ]
  },
  {
   "cell_type": "code",
   "execution_count": null,
   "metadata": {
    "colab": {},
    "colab_type": "code",
    "id": "yaZFUC1IUrbV"
   },
   "outputs": [],
   "source": [
    "8782*0.8"
   ]
  },
  {
   "cell_type": "code",
   "execution_count": null,
   "metadata": {
    "colab": {},
    "colab_type": "code",
    "id": "3nImzAGnKcXJ"
   },
   "outputs": [],
   "source": [
    "values1=['Prec', 'Sunshine', 'Insolation', 'Snow']\n",
    "for Value1 in values1:\n",
    "  forecast[Value1] = forecast[Value1].fillna(0)\n",
    "forecast.head()\n",
    "\n",
    "values2=['Wind_S', 'Wind_D', 'Humidity', 'Pressure', 'Cloud', 'Municipal', 'Ground_Temp']\n",
    "for Value2 in values2:\n",
    "  forecast[Value2] = forecast[Value2].fillna(forecast.mean()[Value2])\n",
    "forecast.head()\n"
   ]
  },
  {
   "cell_type": "markdown",
   "metadata": {
    "colab_type": "text",
    "id": "Xua9692kydqF"
   },
   "source": [
    "날자 형식 변환 및 시간별 계산 "
   ]
  },
  {
   "cell_type": "code",
   "execution_count": null,
   "metadata": {
    "colab": {},
    "colab_type": "code",
    "id": "OH59fBgbRLvm"
   },
   "outputs": [],
   "source": [
    "def utc_change (string) : \n",
    "    year = string[:4]\n",
    "    month = string[5:7]\n",
    "    day = string[8:10]\n",
    "    hour = string[11:13]\n",
    "    if hour in \":\" :\n",
    "        hour == int(string[11:12])\n",
    "    else : \n",
    "        hour == int(string[11:13])\n",
    "    minute = string[14:16]\n",
    "    second = string[17:19]\n",
    "    \n",
    "    date = year + \"-\" + month + \"-\" + day + \" \" + str(hour)\n",
    "\n",
    "    return date\n",
    "utc_change(data.loc[0][\"Date\"])\n",
    "data['Date'] = data['Date'].apply(lambda x :utc_change(x))"
   ]
  },
  {
   "cell_type": "code",
   "execution_count": null,
   "metadata": {
    "colab": {},
    "colab_type": "code",
    "id": "K_A0xtHEzaJh"
   },
   "outputs": [],
   "source": [
    "data['Date'] = pd.to_datetime(data['Date'])\n",
    "forecast['Date'] = pd.to_datetime(forecast['Date'])"
   ]
  },
  {
   "cell_type": "markdown",
   "metadata": {
    "colab_type": "text",
    "id": "GhoR_EO77Qki"
   },
   "source": [
    "1시간단위 계산\n"
   ]
  },
  {
   "cell_type": "code",
   "execution_count": null,
   "metadata": {
    "colab": {},
    "colab_type": "code",
    "id": "odKDJ8ST8CIU"
   },
   "outputs": [],
   "source": [
    "data2=data.resample('H', on='Date').sum()"
   ]
  },
  {
   "cell_type": "code",
   "execution_count": null,
   "metadata": {
    "colab": {},
    "colab_type": "code",
    "id": "U0O23kRRpoh-"
   },
   "outputs": [],
   "source": [
    "data2 = data2['Value']"
   ]
  },
  {
   "cell_type": "code",
   "execution_count": null,
   "metadata": {
    "colab": {},
    "colab_type": "code",
    "id": "90_VFOL2uXl9"
   },
   "outputs": [],
   "source": [
    "data2['Value']"
   ]
  },
  {
   "cell_type": "markdown",
   "metadata": {
    "colab_type": "text",
    "id": "Fyp_lne5vnDH"
   },
   "source": [
    "태양열 데이터와 외생변수 데이터 병합."
   ]
  },
  {
   "cell_type": "code",
   "execution_count": null,
   "metadata": {
    "colab": {},
    "colab_type": "code",
    "id": "KdkQb8kK_TSp"
   },
   "outputs": [],
   "source": [
    "arr = []\n",
    "for i in data2['Value']:\n",
    "  arr.append(i)\n",
    "type(arr)"
   ]
  },
  {
   "cell_type": "code",
   "execution_count": null,
   "metadata": {
    "colab": {},
    "colab_type": "code",
    "id": "3mV-Vw3U61vg"
   },
   "outputs": [],
   "source": [
    "Value = pd.DataFrame(arr)\n"
   ]
  },
  {
   "cell_type": "code",
   "execution_count": null,
   "metadata": {
    "colab": {},
    "colab_type": "code",
    "id": "zESN59ZU-eF1"
   },
   "outputs": [],
   "source": [
    "df = forecast.assign(Value = Value.values)\n",
    "df"
   ]
  },
  {
   "cell_type": "code",
   "execution_count": null,
   "metadata": {
    "colab": {},
    "colab_type": "code",
    "id": "jlkuT5ddAeUm"
   },
   "outputs": [],
   "source": [
    "df['Value'].plot(subplots=True)\n",
    "plt.show()"
   ]
  },
  {
   "cell_type": "code",
   "execution_count": null,
   "metadata": {
    "colab": {},
    "colab_type": "code",
    "id": "btBUyQ3rN2QJ"
   },
   "outputs": [],
   "source": [
    "sns.pairplot(plus_data[['sunshine','Insolation','Total cloud','Humidity','Solar']])\n",
    "            \n",
    "    \n",
    "plt.show()"
   ]
  },
  {
   "cell_type": "markdown",
   "metadata": {
    "colab_type": "text",
    "id": "XGe_OOptIv3B"
   },
   "source": [
    "날짜 변수 indexing"
   ]
  },
  {
   "cell_type": "code",
   "execution_count": null,
   "metadata": {
    "colab": {},
    "colab_type": "code",
    "id": "MJkVCq7LIm4_"
   },
   "outputs": [],
   "source": [
    "Date = df['Date']"
   ]
  },
  {
   "cell_type": "code",
   "execution_count": null,
   "metadata": {
    "colab": {},
    "colab_type": "code",
    "id": "CyD0dZshJCHi"
   },
   "outputs": [],
   "source": [
    "del df['Date']"
   ]
  },
  {
   "cell_type": "code",
   "execution_count": null,
   "metadata": {
    "colab": {},
    "colab_type": "code",
    "id": "832vfBvRM_Wk"
   },
   "outputs": [],
   "source": [
    "df.index = Date"
   ]
  },
  {
   "cell_type": "code",
   "execution_count": null,
   "metadata": {
    "colab": {},
    "colab_type": "code",
    "id": "wpxbWznCOXRt"
   },
   "outputs": [],
   "source": [
    "df.info()"
   ]
  },
  {
   "cell_type": "code",
   "execution_count": null,
   "metadata": {
    "colab": {},
    "colab_type": "code",
    "id": "lV2l8DKyF-MO"
   },
   "outputs": [],
   "source": [
    "from keras.layers import LSTM\n",
    "from keras.models import Sequential\n",
    "from keras.layers import Dense\n",
    "import keras.backend as K\n",
    "from keras.callbacks import EarlyStopping"
   ]
  },
  {
   "cell_type": "markdown",
   "metadata": {
    "colab_type": "text",
    "id": "61-yTKLVGHeb"
   },
   "source": [
    "test valid 분리"
   ]
  },
  {
   "cell_type": "code",
   "execution_count": null,
   "metadata": {
    "colab": {},
    "colab_type": "code",
    "id": "KPb_aZPHG0Xa"
   },
   "outputs": [],
   "source": [
    "ratio = 0.8\n",
    "train,valid = df[:int(len(df)*ratio)], df[int(len(df)*ratio):]"
   ]
  },
  {
   "cell_type": "markdown",
   "metadata": {
    "colab_type": "text",
    "id": "9G8Mt1buOrtK"
   },
   "source": [
    "변수 정규화"
   ]
  },
  {
   "cell_type": "code",
   "execution_count": null,
   "metadata": {
    "colab": {},
    "colab_type": "code",
    "id": "BI54wa9tGHEA"
   },
   "outputs": [],
   "source": [
    "dataset = df.values\n",
    "data_mean = dataset.mean(axis=0)\n",
    "data_std = dataset.std(axis=0)\n",
    "dataset = (dataset-data_mean)/data_std\n",
    "print(dataset)"
   ]
  },
  {
   "cell_type": "code",
   "execution_count": null,
   "metadata": {
    "colab": {},
    "colab_type": "code",
    "id": "kX4EzCYKso0Y"
   },
   "outputs": [],
   "source": [
    "def multivariate_data(dataset, target, start_index, end_index, history_size, target_size, step, single_step=False):\n",
    "    data = []\n",
    "    labels = []\n",
    "\n",
    "    start_index = start_index + history_size\n",
    "    if end_index is None:\n",
    "        end_index = len(dataset) - target_size\n",
    "\n",
    "    for i in range(start_index, end_index):\n",
    "        indices = range(i - history_size, i, step)\n",
    "        data.append(dataset[indices])\n",
    "\n",
    "        if single_step:\n",
    "            labels.append(target[i + target_size])\n",
    "        else:\n",
    "            labels.append(target[i:i + target_size])\n",
    "    return np.array(data), np.array(labels)"
   ]
  },
  {
   "cell_type": "code",
   "execution_count": null,
   "metadata": {
    "colab": {},
    "colab_type": "code",
    "id": "OavWZ-z57OrF"
   },
   "outputs": [],
   "source": [
    "past_history = 120\n",
    "future_target = 12\n",
    "STEP = 6\n",
    "\n",
    "x_train_single, y_train_single = multivariate_data(dataset, dataset[:, 1], 0, 7026, past_history,\n",
    "                                                   future_target, STEP, single_step=True)\n",
    "x_val_single, y_val_single = multivariate_data(dataset, dataset[:, 1], 7026, None, past_history,\n",
    "                                               future_target, STEP, single_step=True)\n",
    "\n",
    "print('Single window of past history : {}'.format(x_train_single[0].shape))"
   ]
  },
  {
   "cell_type": "code",
   "execution_count": null,
   "metadata": {
    "colab": {},
    "colab_type": "code",
    "id": "VrRUDP0WWMXy"
   },
   "outputs": [],
   "source": [
    "BUFFER_SIZE = 100\n",
    "BATCH_SIZE = 15\n",
    "EPOCHS = 100\n",
    "EVALUATION_INTERVAL = 5\n",
    "\n",
    "train_data_single = tf.data.Dataset.from_tensor_slices((x_train_single, y_train_single))\n",
    "train_data_single = train_data_single.cache().shuffle(BUFFER_SIZE).batch(BATCH_SIZE).repeat()\n",
    "\n",
    "val_data_single = tf.data.Dataset.from_tensor_slices((x_val_single, y_val_single))\n",
    "val_data_single = val_data_single.batch(BATCH_SIZE).repeat()\n",
    "\n",
    "single_step_model = tf.keras.models.Sequential()\n",
    "single_step_model.add(tf.keras.layers.LSTM(32, input_shape=x_train_single.shape[-2:]))\n",
    "single_step_model.add(tf.keras.layers.Dense(1))\n",
    "single_step_model.compile(optimizer='adam', loss='mae')\n",
    "\n",
    "for x, y in val_data_single.take(1):\n",
    "    print(single_step_model.predict(x).shape)\n",
    "\n",
    "single_step_history = single_step_model.fit(train_data_single, epochs=EPOCHS,\n",
    "                                            steps_per_epoch=EVALUATION_INTERVAL,\n",
    "                                            validation_data=val_data_single,\n",
    "                                            validation_steps=50)\n",
    "\n",
    "\n",
    "def plot_train_history(history, title):\n",
    "    loss = history.history['loss']\n",
    "    val_loss = history.history['val_loss']\n",
    "\n",
    "    epochs = range(len(loss))\n",
    "\n",
    "    plt.figure()\n",
    "\n",
    "    plt.plot(epochs, loss, 'b', label='Training loss')\n",
    "    plt.plot(epochs, val_loss, 'r', label='Validation loss')\n",
    "    plt.title(title)\n",
    "    plt.legend()\n",
    "\n",
    "    plt.show()\n",
    "\n",
    "plot_train_history(single_step_history,\n",
    "                   'Single Step Training and Validation Loss')"
   ]
  },
  {
   "cell_type": "code",
   "execution_count": null,
   "metadata": {
    "colab": {},
    "colab_type": "code",
    "id": "h9DCO87-VoYd"
   },
   "outputs": [],
   "source": []
  },
  {
   "cell_type": "code",
   "execution_count": null,
   "metadata": {
    "colab": {},
    "colab_type": "code",
    "id": "_24JnJLV-_gz"
   },
   "outputs": [],
   "source": [
    "def FUNCTION_1 (data, dataframe_new, time) : \n",
    "    \n",
    "    for idx in data.index : \n",
    "    \n",
    "        if time in str(data.loc[idx][\"Date\"]) : \n",
    "\n",
    "            sample = pd.Series({\"Date\" : data.loc[idx][\"Date\"], \"Value\" : data.loc[idx][\"Value\"]})\n",
    "\n",
    "            dataframe_new = dataframe_new.append(sample, ignore_index=True)\n",
    "            \n",
    "    dataframe_new[\"past_01\"] = dataframe_new[\"Value\"].shift(1)\n",
    "    dataframe_new[\"past_02\"] = dataframe_new[\"Value\"].shift(2)\n",
    "    dataframe_new[\"past_03\"] = dataframe_new[\"Value\"].shift(3)\n",
    "    dataframe_new[\"past_04\"] = dataframe_new[\"Value\"].shift(4)\n",
    "    dataframe_new[\"past_05\"] = dataframe_new[\"Value\"].shift(5)\n",
    "    dataframe_new[\"past_06\"] = dataframe_new[\"Value\"].shift(6)\n",
    "    dataframe_new[\"past_07\"] = dataframe_new[\"Value\"].shift(7)\n",
    "\n",
    "    dataframe_new = dataframe_new.dropna(subset=[\"past_01\", \"past_02\", \"past_03\", \"past_04\", \"past_05\", \"past_06\", \"past_07\"])\n",
    "    \n",
    "    dataframe_new = dataframe_new.reset_index()\n",
    "    \n",
    "    dataframe_new = dataframe_new[dataframe_new.columns[1:]]\n",
    "    \n",
    "    return dataframe_new"
   ]
  },
  {
   "cell_type": "code",
   "execution_count": null,
   "metadata": {
    "colab": {},
    "colab_type": "code",
    "id": "sYk5xrC8_D5D"
   },
   "outputs": [],
   "source": [
    "def FUNCTION_2 (dataframe, time) : \n",
    "    \n",
    "    train = pd.DataFrame()\n",
    "    test = pd.DataFrame()\n",
    "    \n",
    "    for idx in dataframe.index : \n",
    "        \n",
    "        if dataframe.loc[idx][\"Date\"] == \"2020-01-31T\" + time + \"+09:00\" : \n",
    "            test = test.append(dataframe.loc[idx])\n",
    "        elif dataframe.loc[idx][\"Date\"] == \"2020-03-31T\" + time + \"+09:00\" : \n",
    "            test = test.append(dataframe.loc[idx])\n",
    "        elif dataframe.loc[idx][\"Date\"] == \"2020-05-31T\" + time + \"+09:00\" : \n",
    "            test = test.append(dataframe.loc[idx])\n",
    "        else :\n",
    "            train = train.append(dataframe.loc[idx])\n",
    "            \n",
    "    train = train.reset_index()\n",
    "    test = test.reset_index()\n",
    "    \n",
    "    train = train[train.columns[1:]]\n",
    "    test = test[test.columns[1:]]\n",
    "\n",
    "    return train, test"
   ]
  },
  {
   "cell_type": "code",
   "execution_count": null,
   "metadata": {
    "colab": {},
    "colab_type": "code",
    "id": "WUtw2SGpAyda"
   },
   "outputs": [],
   "source": [
    "data_1500 = pd.DataFrame()\n",
    "data_1500 = FUNCTION_1(data = data, dataframe_new = data_1500, time = \"15:00:00\")\n",
    "data_1500_train = FUNCTION_2(data_1500, time=\"15:00:00\")[0]\n",
    "data_1500_test = FUNCTION_2(data_1500, time=\"15:00:00\")[1]"
   ]
  },
  {
   "cell_type": "code",
   "execution_count": null,
   "metadata": {
    "colab": {},
    "colab_type": "code",
    "id": "ti78pIR9BMFW"
   },
   "outputs": [],
   "source": [
    "data_1500_train\n",
    "\n",
    "\n"
   ]
  }
 ],
 "metadata": {
  "colab": {
   "collapsed_sections": [],
   "name": "연습용 lstm",
   "private_outputs": true,
   "provenance": []
  },
  "kernelspec": {
   "display_name": "Python 3",
   "language": "python",
   "name": "python3"
  },
  "language_info": {
   "codemirror_mode": {
    "name": "ipython",
    "version": 3
   },
   "file_extension": ".py",
   "mimetype": "text/x-python",
   "name": "python",
   "nbconvert_exporter": "python",
   "pygments_lexer": "ipython3",
   "version": "3.7.3"
  }
 },
 "nbformat": 4,
 "nbformat_minor": 1
}
