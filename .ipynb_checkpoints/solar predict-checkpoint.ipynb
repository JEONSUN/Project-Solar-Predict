{
 "cells": [
  {
   "cell_type": "code",
   "execution_count": 1,
   "metadata": {},
   "outputs": [
    {
     "name": "stderr",
     "output_type": "stream",
     "text": [
      "Using TensorFlow backend.\n"
     ]
    }
   ],
   "source": [
    "import numpy as np\n",
    "import pandas as pd\n",
    "from datetime import datetime\n",
    "import matplotlib.pyplot as plt \n",
    "import pytz\n",
    "import seaborn as sns\n",
    "from sklearn import model_selection\n",
    "from keras import models, layers\n",
    "import warnings"
   ]
  },
  {
   "cell_type": "markdown",
   "metadata": {},
   "source": [
    "#### 데이터 불러오기"
   ]
  },
  {
   "cell_type": "code",
   "execution_count": 2,
   "metadata": {},
   "outputs": [],
   "source": [
    "column_names = ['date','solar']\n",
    "column_names1 = ['Date', 'Time','Solar','Temperature','Wind Speed','Wind','Humidity','atmospheric','sunshine','Insolation','Total cloud','Municipal','Ground temperature']"
   ]
  },
  {
   "cell_type": "code",
   "execution_count": 3,
   "metadata": {},
   "outputs": [],
   "source": [
    "data = pd.read_csv(\"D:\\Portfolio\\[Project]postech\\SolarPV_Elec_Problem.csv\", header = None, names=column_names)"
   ]
  },
  {
   "cell_type": "code",
   "execution_count": 4,
   "metadata": {},
   "outputs": [
    {
     "name": "stdout",
     "output_type": "stream",
     "text": [
      "<class 'pandas.core.frame.DataFrame'>\n",
      "RangeIndex: 35125 entries, 0 to 35124\n",
      "Data columns (total 2 columns):\n",
      "date     35125 non-null object\n",
      "solar    34837 non-null float64\n",
      "dtypes: float64(1), object(1)\n",
      "memory usage: 548.9+ KB\n"
     ]
    }
   ],
   "source": [
    "data.info()"
   ]
  },
  {
   "cell_type": "code",
   "execution_count": 5,
   "metadata": {},
   "outputs": [],
   "source": [
    "plus_data = pd.read_excel(\"D:\\Portfolio\\[Project]postech\\data.xlsx\",names = column_names1)"
   ]
  },
  {
   "cell_type": "markdown",
   "metadata": {},
   "source": [
    "#### 데이터  요약"
   ]
  },
  {
   "cell_type": "code",
   "execution_count": 6,
   "metadata": {
    "scrolled": false
   },
   "outputs": [
    {
     "data": {
      "text/html": [
       "<div>\n",
       "<style scoped>\n",
       "    .dataframe tbody tr th:only-of-type {\n",
       "        vertical-align: middle;\n",
       "    }\n",
       "\n",
       "    .dataframe tbody tr th {\n",
       "        vertical-align: top;\n",
       "    }\n",
       "\n",
       "    .dataframe thead th {\n",
       "        text-align: right;\n",
       "    }\n",
       "</style>\n",
       "<table border=\"1\" class=\"dataframe\">\n",
       "  <thead>\n",
       "    <tr style=\"text-align: right;\">\n",
       "      <th></th>\n",
       "      <th>date</th>\n",
       "      <th>solar</th>\n",
       "    </tr>\n",
       "  </thead>\n",
       "  <tbody>\n",
       "    <tr>\n",
       "      <th>0</th>\n",
       "      <td>2019-07-01T00:00:00+09:00</td>\n",
       "      <td>0.0</td>\n",
       "    </tr>\n",
       "    <tr>\n",
       "      <th>1</th>\n",
       "      <td>2019-07-01T00:15:00+09:00</td>\n",
       "      <td>0.0</td>\n",
       "    </tr>\n",
       "    <tr>\n",
       "      <th>2</th>\n",
       "      <td>2019-07-01T00:30:00+09:00</td>\n",
       "      <td>0.0</td>\n",
       "    </tr>\n",
       "    <tr>\n",
       "      <th>3</th>\n",
       "      <td>2019-07-01T00:45:00+09:00</td>\n",
       "      <td>0.0</td>\n",
       "    </tr>\n",
       "    <tr>\n",
       "      <th>4</th>\n",
       "      <td>2019-07-01T01:00:00+09:00</td>\n",
       "      <td>0.0</td>\n",
       "    </tr>\n",
       "  </tbody>\n",
       "</table>\n",
       "</div>"
      ],
      "text/plain": [
       "                        date  solar\n",
       "0  2019-07-01T00:00:00+09:00    0.0\n",
       "1  2019-07-01T00:15:00+09:00    0.0\n",
       "2  2019-07-01T00:30:00+09:00    0.0\n",
       "3  2019-07-01T00:45:00+09:00    0.0\n",
       "4  2019-07-01T01:00:00+09:00    0.0"
      ]
     },
     "execution_count": 6,
     "metadata": {},
     "output_type": "execute_result"
    }
   ],
   "source": [
    "data.head()"
   ]
  },
  {
   "cell_type": "code",
   "execution_count": 7,
   "metadata": {
    "scrolled": false
   },
   "outputs": [
    {
     "data": {
      "text/html": [
       "<div>\n",
       "<style scoped>\n",
       "    .dataframe tbody tr th:only-of-type {\n",
       "        vertical-align: middle;\n",
       "    }\n",
       "\n",
       "    .dataframe tbody tr th {\n",
       "        vertical-align: top;\n",
       "    }\n",
       "\n",
       "    .dataframe thead th {\n",
       "        text-align: right;\n",
       "    }\n",
       "</style>\n",
       "<table border=\"1\" class=\"dataframe\">\n",
       "  <thead>\n",
       "    <tr style=\"text-align: right;\">\n",
       "      <th></th>\n",
       "      <th>Date</th>\n",
       "      <th>Time</th>\n",
       "      <th>Solar</th>\n",
       "      <th>Temperature</th>\n",
       "      <th>Wind Speed</th>\n",
       "      <th>Wind</th>\n",
       "      <th>Humidity</th>\n",
       "      <th>atmospheric</th>\n",
       "      <th>sunshine</th>\n",
       "      <th>Insolation</th>\n",
       "      <th>Total cloud</th>\n",
       "      <th>Municipal</th>\n",
       "      <th>Ground temperature</th>\n",
       "    </tr>\n",
       "  </thead>\n",
       "  <tbody>\n",
       "    <tr>\n",
       "      <th>0</th>\n",
       "      <td>2019-07-01</td>\n",
       "      <td>0</td>\n",
       "      <td>0.0</td>\n",
       "      <td>23.3</td>\n",
       "      <td>1.3</td>\n",
       "      <td>250</td>\n",
       "      <td>84.0</td>\n",
       "      <td>997.4</td>\n",
       "      <td>0.0</td>\n",
       "      <td>0.0</td>\n",
       "      <td>8</td>\n",
       "      <td>643</td>\n",
       "      <td>22.6</td>\n",
       "    </tr>\n",
       "    <tr>\n",
       "      <th>1</th>\n",
       "      <td>2019-07-01</td>\n",
       "      <td>1</td>\n",
       "      <td>0.0</td>\n",
       "      <td>23.2</td>\n",
       "      <td>0.8</td>\n",
       "      <td>250</td>\n",
       "      <td>86.0</td>\n",
       "      <td>997.3</td>\n",
       "      <td>0.0</td>\n",
       "      <td>0.0</td>\n",
       "      <td>10</td>\n",
       "      <td>547</td>\n",
       "      <td>23.1</td>\n",
       "    </tr>\n",
       "    <tr>\n",
       "      <th>2</th>\n",
       "      <td>2019-07-01</td>\n",
       "      <td>2</td>\n",
       "      <td>0.0</td>\n",
       "      <td>23.1</td>\n",
       "      <td>1.1</td>\n",
       "      <td>250</td>\n",
       "      <td>86.0</td>\n",
       "      <td>997.0</td>\n",
       "      <td>0.0</td>\n",
       "      <td>0.0</td>\n",
       "      <td>7</td>\n",
       "      <td>506</td>\n",
       "      <td>23.1</td>\n",
       "    </tr>\n",
       "    <tr>\n",
       "      <th>3</th>\n",
       "      <td>2019-07-01</td>\n",
       "      <td>3</td>\n",
       "      <td>0.0</td>\n",
       "      <td>23.0</td>\n",
       "      <td>1.3</td>\n",
       "      <td>250</td>\n",
       "      <td>87.0</td>\n",
       "      <td>997.1</td>\n",
       "      <td>0.0</td>\n",
       "      <td>0.0</td>\n",
       "      <td>9</td>\n",
       "      <td>472</td>\n",
       "      <td>23.0</td>\n",
       "    </tr>\n",
       "    <tr>\n",
       "      <th>4</th>\n",
       "      <td>2019-07-01</td>\n",
       "      <td>4</td>\n",
       "      <td>0.0</td>\n",
       "      <td>22.7</td>\n",
       "      <td>0.6</td>\n",
       "      <td>250</td>\n",
       "      <td>88.0</td>\n",
       "      <td>997.3</td>\n",
       "      <td>0.0</td>\n",
       "      <td>0.0</td>\n",
       "      <td>9</td>\n",
       "      <td>366</td>\n",
       "      <td>22.2</td>\n",
       "    </tr>\n",
       "  </tbody>\n",
       "</table>\n",
       "</div>"
      ],
      "text/plain": [
       "         Date  Time  Solar  Temperature  Wind Speed  Wind  Humidity  \\\n",
       "0  2019-07-01     0    0.0         23.3         1.3   250      84.0   \n",
       "1  2019-07-01     1    0.0         23.2         0.8   250      86.0   \n",
       "2  2019-07-01     2    0.0         23.1         1.1   250      86.0   \n",
       "3  2019-07-01     3    0.0         23.0         1.3   250      87.0   \n",
       "4  2019-07-01     4    0.0         22.7         0.6   250      88.0   \n",
       "\n",
       "   atmospheric  sunshine  Insolation  Total cloud  Municipal  \\\n",
       "0        997.4       0.0         0.0            8        643   \n",
       "1        997.3       0.0         0.0           10        547   \n",
       "2        997.0       0.0         0.0            7        506   \n",
       "3        997.1       0.0         0.0            9        472   \n",
       "4        997.3       0.0         0.0            9        366   \n",
       "\n",
       "   Ground temperature  \n",
       "0                22.6  \n",
       "1                23.1  \n",
       "2                23.1  \n",
       "3                23.0  \n",
       "4                22.2  "
      ]
     },
     "execution_count": 7,
     "metadata": {},
     "output_type": "execute_result"
    }
   ],
   "source": [
    "plus_data.head()"
   ]
  },
  {
   "cell_type": "markdown",
   "metadata": {},
   "source": [
    "\n",
    "\n",
    "**plus_data 변수 정리**\n",
    "\n",
    "|변수 명|변수 설명|변수 유형|\n",
    "|-----|-------|-----|\n",
    "|**Date**|가동월일|datetime|\n",
    "|**time**|가동시간|int|\n",
    "|**solar**|태양광|float|\n",
    "|**temperature**|기온|float|\n",
    "|**windspeed**|풍력|float|\n",
    "|**wind**|풍향|float|\n",
    "|**humidity**|습도|float|\n",
    "|**atmospheric**|현지기압|float|\n",
    "|**sunshine**|일조|float|\n",
    "|**insolation**|일사|float|\n",
    "|**total cloud**|구름량|int|\n",
    "|**municipal**|가시거리|int|\n",
    "|**ground temperature**|지면온도|float|"
   ]
  },
  {
   "cell_type": "code",
   "execution_count": 8,
   "metadata": {},
   "outputs": [],
   "source": [
    "# 문자형 데이터를 날짜 데이터로\n",
    "plus_data[\"Date\"] = pd.to_datetime(plus_data[\"Date\"])"
   ]
  },
  {
   "cell_type": "code",
   "execution_count": 9,
   "metadata": {},
   "outputs": [
    {
     "name": "stdout",
     "output_type": "stream",
     "text": [
      "<class 'pandas.core.frame.DataFrame'>\n",
      "RangeIndex: 35125 entries, 0 to 35124\n",
      "Data columns (total 2 columns):\n",
      "date     35125 non-null object\n",
      "solar    34837 non-null float64\n",
      "dtypes: float64(1), object(1)\n",
      "memory usage: 548.9+ KB\n"
     ]
    }
   ],
   "source": [
    "data.info()"
   ]
  },
  {
   "cell_type": "code",
   "execution_count": 24,
   "metadata": {
    "scrolled": false
   },
   "outputs": [
    {
     "data": {
      "image/png": "[encoded data removed]",
      "text/plain": [
       "<Figure size 1800x576 with 1 Axes>"
      ]
     },
     "metadata": {
      "needs_background": "light"
     },
     "output_type": "display_data"
    }
   ],
   "source": [
    "# 19-07-01~19-12-31 일별 solar\n",
    "plt.figure(figsize=(25,8))\n",
    "plt.plot(data_train)\n",
    "plt.show()"
   ]
  },
  {
   "cell_type": "markdown",
   "metadata": {},
   "source": [
    "빛의 강도가 가장 강한 시기는 봄과 가을이다. 여름도 발전량은 많지만 기상조건이 일정하지 않고 높은 온도로 인해 발전효율이 떨어진다(기술적 오류인데 기계가 25도에 최적화 되어있으므로 25도를 넘을 경우 효율이 떨어짐.\n",
    "\n",
    "\n",
    "\n",
    "태양광 패널의 표면온도가 높을수록 발전량도 많다. "
   ]
  },
  {
   "cell_type": "code",
   "execution_count": 21,
   "metadata": {
    "scrolled": false
   },
   "outputs": [
    {
     "name": "stdout",
     "output_type": "stream",
     "text": [
      "<class 'pandas.core.frame.DataFrame'>\n",
      "RangeIndex: 8782 entries, 0 to 8781\n",
      "Data columns (total 12 columns):\n",
      "Date                  8782 non-null datetime64[ns]\n",
      "Solar                 8710 non-null float64\n",
      "Temperature           8782 non-null float64\n",
      "Wind Speed            8782 non-null float64\n",
      "Wind                  8782 non-null int64\n",
      "Humidity              8782 non-null float64\n",
      "atmospheric           8782 non-null float64\n",
      "sunshine              8782 non-null float64\n",
      "Insolation            8782 non-null float64\n",
      "Total cloud           8782 non-null int64\n",
      "Municipal             8782 non-null int64\n",
      "Ground temperature    8782 non-null float64\n",
      "dtypes: datetime64[ns](1), float64(8), int64(3)\n",
      "memory usage: 823.4 KB\n"
     ]
    }
   ],
   "source": [
    "plus_data.info()"
   ]
  },
  {
   "cell_type": "code",
   "execution_count": 20,
   "metadata": {},
   "outputs": [
    {
     "name": "stdout",
     "output_type": "stream",
     "text": [
      "(0, 2)\n"
     ]
    },
    {
     "data": {
      "text/html": [
       "<div>\n",
       "<style scoped>\n",
       "    .dataframe tbody tr th:only-of-type {\n",
       "        vertical-align: middle;\n",
       "    }\n",
       "\n",
       "    .dataframe tbody tr th {\n",
       "        vertical-align: top;\n",
       "    }\n",
       "\n",
       "    .dataframe thead th {\n",
       "        text-align: right;\n",
       "    }\n",
       "</style>\n",
       "<table border=\"1\" class=\"dataframe\">\n",
       "  <thead>\n",
       "    <tr style=\"text-align: right;\">\n",
       "      <th></th>\n",
       "      <th>date</th>\n",
       "      <th>solar</th>\n",
       "    </tr>\n",
       "  </thead>\n",
       "  <tbody>\n",
       "  </tbody>\n",
       "</table>\n",
       "</div>"
      ],
      "text/plain": [
       "Empty DataFrame\n",
       "Columns: [date, solar]\n",
       "Index: []"
      ]
     },
     "execution_count": 20,
     "metadata": {},
     "output_type": "execute_result"
    }
   ],
   "source": [
    "print(data_train.shape)\n",
    "data_train.tail()"
   ]
  },
  {
   "cell_type": "code",
   "execution_count": 19,
   "metadata": {},
   "outputs": [],
   "source": [
    "plus_data.drop(['Time'], axis='columns', inplace=True)"
   ]
  },
  {
   "cell_type": "code",
   "execution_count": 18,
   "metadata": {},
   "outputs": [
    {
     "data": {
      "text/html": [
       "<div>\n",
       "<style scoped>\n",
       "    .dataframe tbody tr th:only-of-type {\n",
       "        vertical-align: middle;\n",
       "    }\n",
       "\n",
       "    .dataframe tbody tr th {\n",
       "        vertical-align: top;\n",
       "    }\n",
       "\n",
       "    .dataframe thead th {\n",
       "        text-align: right;\n",
       "    }\n",
       "</style>\n",
       "<table border=\"1\" class=\"dataframe\">\n",
       "  <thead>\n",
       "    <tr style=\"text-align: right;\">\n",
       "      <th></th>\n",
       "      <th>Time</th>\n",
       "      <th>Solar</th>\n",
       "      <th>Temperature</th>\n",
       "      <th>Wind Speed</th>\n",
       "      <th>Wind</th>\n",
       "      <th>Humidity</th>\n",
       "      <th>atmospheric</th>\n",
       "      <th>sunshine</th>\n",
       "      <th>Insolation</th>\n",
       "      <th>Total cloud</th>\n",
       "      <th>Municipal</th>\n",
       "      <th>Ground temperature</th>\n",
       "    </tr>\n",
       "  </thead>\n",
       "  <tbody>\n",
       "    <tr>\n",
       "      <th>Time</th>\n",
       "      <td>1.000000</td>\n",
       "      <td>0.075146</td>\n",
       "      <td>0.157014</td>\n",
       "      <td>0.232235</td>\n",
       "      <td>0.176134</td>\n",
       "      <td>-0.323877</td>\n",
       "      <td>-0.040314</td>\n",
       "      <td>0.156597</td>\n",
       "      <td>0.147574</td>\n",
       "      <td>-0.043789</td>\n",
       "      <td>0.208279</td>\n",
       "      <td>0.143756</td>\n",
       "    </tr>\n",
       "    <tr>\n",
       "      <th>Solar</th>\n",
       "      <td>0.075146</td>\n",
       "      <td>1.000000</td>\n",
       "      <td>0.207026</td>\n",
       "      <td>0.351792</td>\n",
       "      <td>0.211262</td>\n",
       "      <td>-0.429982</td>\n",
       "      <td>-0.025958</td>\n",
       "      <td>0.789706</td>\n",
       "      <td>0.932709</td>\n",
       "      <td>-0.227861</td>\n",
       "      <td>0.203154</td>\n",
       "      <td>0.511437</td>\n",
       "    </tr>\n",
       "    <tr>\n",
       "      <th>Temperature</th>\n",
       "      <td>0.157014</td>\n",
       "      <td>0.207026</td>\n",
       "      <td>1.000000</td>\n",
       "      <td>0.241677</td>\n",
       "      <td>0.088318</td>\n",
       "      <td>0.029653</td>\n",
       "      <td>-0.785542</td>\n",
       "      <td>0.162570</td>\n",
       "      <td>0.324716</td>\n",
       "      <td>0.200720</td>\n",
       "      <td>0.277598</td>\n",
       "      <td>0.922027</td>\n",
       "    </tr>\n",
       "    <tr>\n",
       "      <th>Wind Speed</th>\n",
       "      <td>0.232235</td>\n",
       "      <td>0.351792</td>\n",
       "      <td>0.241677</td>\n",
       "      <td>1.000000</td>\n",
       "      <td>0.368624</td>\n",
       "      <td>-0.352944</td>\n",
       "      <td>-0.289677</td>\n",
       "      <td>0.349869</td>\n",
       "      <td>0.423558</td>\n",
       "      <td>0.032229</td>\n",
       "      <td>0.381831</td>\n",
       "      <td>0.338000</td>\n",
       "    </tr>\n",
       "    <tr>\n",
       "      <th>Wind</th>\n",
       "      <td>0.176134</td>\n",
       "      <td>0.211262</td>\n",
       "      <td>0.088318</td>\n",
       "      <td>0.368624</td>\n",
       "      <td>1.000000</td>\n",
       "      <td>-0.266230</td>\n",
       "      <td>-0.134060</td>\n",
       "      <td>0.233446</td>\n",
       "      <td>0.234818</td>\n",
       "      <td>-0.079527</td>\n",
       "      <td>0.146357</td>\n",
       "      <td>0.156472</td>\n",
       "    </tr>\n",
       "    <tr>\n",
       "      <th>Humidity</th>\n",
       "      <td>-0.323877</td>\n",
       "      <td>-0.429982</td>\n",
       "      <td>0.029653</td>\n",
       "      <td>-0.352944</td>\n",
       "      <td>-0.266230</td>\n",
       "      <td>1.000000</td>\n",
       "      <td>-0.223102</td>\n",
       "      <td>-0.536241</td>\n",
       "      <td>-0.493685</td>\n",
       "      <td>0.407224</td>\n",
       "      <td>-0.516813</td>\n",
       "      <td>-0.107045</td>\n",
       "    </tr>\n",
       "    <tr>\n",
       "      <th>atmospheric</th>\n",
       "      <td>-0.040314</td>\n",
       "      <td>-0.025958</td>\n",
       "      <td>-0.785542</td>\n",
       "      <td>-0.289677</td>\n",
       "      <td>-0.134060</td>\n",
       "      <td>-0.223102</td>\n",
       "      <td>1.000000</td>\n",
       "      <td>0.045277</td>\n",
       "      <td>-0.119903</td>\n",
       "      <td>-0.311949</td>\n",
       "      <td>-0.150418</td>\n",
       "      <td>-0.693009</td>\n",
       "    </tr>\n",
       "    <tr>\n",
       "      <th>sunshine</th>\n",
       "      <td>0.156597</td>\n",
       "      <td>0.789706</td>\n",
       "      <td>0.162570</td>\n",
       "      <td>0.349869</td>\n",
       "      <td>0.233446</td>\n",
       "      <td>-0.536241</td>\n",
       "      <td>0.045277</td>\n",
       "      <td>1.000000</td>\n",
       "      <td>0.836752</td>\n",
       "      <td>-0.379400</td>\n",
       "      <td>0.241219</td>\n",
       "      <td>0.413037</td>\n",
       "    </tr>\n",
       "    <tr>\n",
       "      <th>Insolation</th>\n",
       "      <td>0.147574</td>\n",
       "      <td>0.932709</td>\n",
       "      <td>0.324716</td>\n",
       "      <td>0.423558</td>\n",
       "      <td>0.234818</td>\n",
       "      <td>-0.493685</td>\n",
       "      <td>-0.119903</td>\n",
       "      <td>0.836752</td>\n",
       "      <td>1.000000</td>\n",
       "      <td>-0.209460</td>\n",
       "      <td>0.286609</td>\n",
       "      <td>0.620852</td>\n",
       "    </tr>\n",
       "    <tr>\n",
       "      <th>Total cloud</th>\n",
       "      <td>-0.043789</td>\n",
       "      <td>-0.227861</td>\n",
       "      <td>0.200720</td>\n",
       "      <td>0.032229</td>\n",
       "      <td>-0.079527</td>\n",
       "      <td>0.407224</td>\n",
       "      <td>-0.311949</td>\n",
       "      <td>-0.379400</td>\n",
       "      <td>-0.209460</td>\n",
       "      <td>1.000000</td>\n",
       "      <td>-0.145198</td>\n",
       "      <td>0.105679</td>\n",
       "    </tr>\n",
       "    <tr>\n",
       "      <th>Municipal</th>\n",
       "      <td>0.208279</td>\n",
       "      <td>0.203154</td>\n",
       "      <td>0.277598</td>\n",
       "      <td>0.381831</td>\n",
       "      <td>0.146357</td>\n",
       "      <td>-0.516813</td>\n",
       "      <td>-0.150418</td>\n",
       "      <td>0.241219</td>\n",
       "      <td>0.286609</td>\n",
       "      <td>-0.145198</td>\n",
       "      <td>1.000000</td>\n",
       "      <td>0.299890</td>\n",
       "    </tr>\n",
       "    <tr>\n",
       "      <th>Ground temperature</th>\n",
       "      <td>0.143756</td>\n",
       "      <td>0.511437</td>\n",
       "      <td>0.922027</td>\n",
       "      <td>0.338000</td>\n",
       "      <td>0.156472</td>\n",
       "      <td>-0.107045</td>\n",
       "      <td>-0.693009</td>\n",
       "      <td>0.413037</td>\n",
       "      <td>0.620852</td>\n",
       "      <td>0.105679</td>\n",
       "      <td>0.299890</td>\n",
       "      <td>1.000000</td>\n",
       "    </tr>\n",
       "  </tbody>\n",
       "</table>\n",
       "</div>"
      ],
      "text/plain": [
       "                        Time     Solar  Temperature  Wind Speed      Wind  \\\n",
       "Time                1.000000  0.075146     0.157014    0.232235  0.176134   \n",
       "Solar               0.075146  1.000000     0.207026    0.351792  0.211262   \n",
       "Temperature         0.157014  0.207026     1.000000    0.241677  0.088318   \n",
       "Wind Speed          0.232235  0.351792     0.241677    1.000000  0.368624   \n",
       "Wind                0.176134  0.211262     0.088318    0.368624  1.000000   \n",
       "Humidity           -0.323877 -0.429982     0.029653   -0.352944 -0.266230   \n",
       "atmospheric        -0.040314 -0.025958    -0.785542   -0.289677 -0.134060   \n",
       "sunshine            0.156597  0.789706     0.162570    0.349869  0.233446   \n",
       "Insolation          0.147574  0.932709     0.324716    0.423558  0.234818   \n",
       "Total cloud        -0.043789 -0.227861     0.200720    0.032229 -0.079527   \n",
       "Municipal           0.208279  0.203154     0.277598    0.381831  0.146357   \n",
       "Ground temperature  0.143756  0.511437     0.922027    0.338000  0.156472   \n",
       "\n",
       "                    Humidity  atmospheric  sunshine  Insolation  Total cloud  \\\n",
       "Time               -0.323877    -0.040314  0.156597    0.147574    -0.043789   \n",
       "Solar              -0.429982    -0.025958  0.789706    0.932709    -0.227861   \n",
       "Temperature         0.029653    -0.785542  0.162570    0.324716     0.200720   \n",
       "Wind Speed         -0.352944    -0.289677  0.349869    0.423558     0.032229   \n",
       "Wind               -0.266230    -0.134060  0.233446    0.234818    -0.079527   \n",
       "Humidity            1.000000    -0.223102 -0.536241   -0.493685     0.407224   \n",
       "atmospheric        -0.223102     1.000000  0.045277   -0.119903    -0.311949   \n",
       "sunshine           -0.536241     0.045277  1.000000    0.836752    -0.379400   \n",
       "Insolation         -0.493685    -0.119903  0.836752    1.000000    -0.209460   \n",
       "Total cloud         0.407224    -0.311949 -0.379400   -0.209460     1.000000   \n",
       "Municipal          -0.516813    -0.150418  0.241219    0.286609    -0.145198   \n",
       "Ground temperature -0.107045    -0.693009  0.413037    0.620852     0.105679   \n",
       "\n",
       "                    Municipal  Ground temperature  \n",
       "Time                 0.208279            0.143756  \n",
       "Solar                0.203154            0.511437  \n",
       "Temperature          0.277598            0.922027  \n",
       "Wind Speed           0.381831            0.338000  \n",
       "Wind                 0.146357            0.156472  \n",
       "Humidity            -0.516813           -0.107045  \n",
       "atmospheric         -0.150418           -0.693009  \n",
       "sunshine             0.241219            0.413037  \n",
       "Insolation           0.286609            0.620852  \n",
       "Total cloud         -0.145198            0.105679  \n",
       "Municipal            1.000000            0.299890  \n",
       "Ground temperature   0.299890            1.000000  "
      ]
     },
     "execution_count": 18,
     "metadata": {},
     "output_type": "execute_result"
    }
   ],
   "source": [
    "corr = plus_data.corr()\n",
    "corr"
   ]
  },
  {
   "cell_type": "code",
   "execution_count": 17,
   "metadata": {
    "scrolled": true
   },
   "outputs": [
    {
     "data": {
      "text/html": [
       "<div>\n",
       "<style scoped>\n",
       "    .dataframe tbody tr th:only-of-type {\n",
       "        vertical-align: middle;\n",
       "    }\n",
       "\n",
       "    .dataframe tbody tr th {\n",
       "        vertical-align: top;\n",
       "    }\n",
       "\n",
       "    .dataframe thead th {\n",
       "        text-align: right;\n",
       "    }\n",
       "</style>\n",
       "<table border=\"1\" class=\"dataframe\">\n",
       "  <thead>\n",
       "    <tr style=\"text-align: right;\">\n",
       "      <th></th>\n",
       "      <th>Date</th>\n",
       "      <th>Time</th>\n",
       "      <th>Solar</th>\n",
       "      <th>Temperature</th>\n",
       "      <th>Wind Speed</th>\n",
       "      <th>Wind</th>\n",
       "      <th>Humidity</th>\n",
       "      <th>atmospheric</th>\n",
       "      <th>sunshine</th>\n",
       "      <th>Insolation</th>\n",
       "      <th>Total cloud</th>\n",
       "      <th>Municipal</th>\n",
       "      <th>Ground temperature</th>\n",
       "    </tr>\n",
       "  </thead>\n",
       "  <tbody>\n",
       "    <tr>\n",
       "      <th>0</th>\n",
       "      <td>2019-07-01</td>\n",
       "      <td>0</td>\n",
       "      <td>0.0</td>\n",
       "      <td>23.3</td>\n",
       "      <td>1.3</td>\n",
       "      <td>250</td>\n",
       "      <td>84.0</td>\n",
       "      <td>997.4</td>\n",
       "      <td>0.0</td>\n",
       "      <td>0.0</td>\n",
       "      <td>8</td>\n",
       "      <td>643</td>\n",
       "      <td>22.6</td>\n",
       "    </tr>\n",
       "    <tr>\n",
       "      <th>1</th>\n",
       "      <td>2019-07-01</td>\n",
       "      <td>1</td>\n",
       "      <td>0.0</td>\n",
       "      <td>23.2</td>\n",
       "      <td>0.8</td>\n",
       "      <td>250</td>\n",
       "      <td>86.0</td>\n",
       "      <td>997.3</td>\n",
       "      <td>0.0</td>\n",
       "      <td>0.0</td>\n",
       "      <td>10</td>\n",
       "      <td>547</td>\n",
       "      <td>23.1</td>\n",
       "    </tr>\n",
       "    <tr>\n",
       "      <th>2</th>\n",
       "      <td>2019-07-01</td>\n",
       "      <td>2</td>\n",
       "      <td>0.0</td>\n",
       "      <td>23.1</td>\n",
       "      <td>1.1</td>\n",
       "      <td>250</td>\n",
       "      <td>86.0</td>\n",
       "      <td>997.0</td>\n",
       "      <td>0.0</td>\n",
       "      <td>0.0</td>\n",
       "      <td>7</td>\n",
       "      <td>506</td>\n",
       "      <td>23.1</td>\n",
       "    </tr>\n",
       "    <tr>\n",
       "      <th>3</th>\n",
       "      <td>2019-07-01</td>\n",
       "      <td>3</td>\n",
       "      <td>0.0</td>\n",
       "      <td>23.0</td>\n",
       "      <td>1.3</td>\n",
       "      <td>250</td>\n",
       "      <td>87.0</td>\n",
       "      <td>997.1</td>\n",
       "      <td>0.0</td>\n",
       "      <td>0.0</td>\n",
       "      <td>9</td>\n",
       "      <td>472</td>\n",
       "      <td>23.0</td>\n",
       "    </tr>\n",
       "    <tr>\n",
       "      <th>4</th>\n",
       "      <td>2019-07-01</td>\n",
       "      <td>4</td>\n",
       "      <td>0.0</td>\n",
       "      <td>22.7</td>\n",
       "      <td>0.6</td>\n",
       "      <td>250</td>\n",
       "      <td>88.0</td>\n",
       "      <td>997.3</td>\n",
       "      <td>0.0</td>\n",
       "      <td>0.0</td>\n",
       "      <td>9</td>\n",
       "      <td>366</td>\n",
       "      <td>22.2</td>\n",
       "    </tr>\n",
       "  </tbody>\n",
       "</table>\n",
       "</div>"
      ],
      "text/plain": [
       "        Date  Time  Solar  Temperature  Wind Speed  Wind  Humidity  \\\n",
       "0 2019-07-01     0    0.0         23.3         1.3   250      84.0   \n",
       "1 2019-07-01     1    0.0         23.2         0.8   250      86.0   \n",
       "2 2019-07-01     2    0.0         23.1         1.1   250      86.0   \n",
       "3 2019-07-01     3    0.0         23.0         1.3   250      87.0   \n",
       "4 2019-07-01     4    0.0         22.7         0.6   250      88.0   \n",
       "\n",
       "   atmospheric  sunshine  Insolation  Total cloud  Municipal  \\\n",
       "0        997.4       0.0         0.0            8        643   \n",
       "1        997.3       0.0         0.0           10        547   \n",
       "2        997.0       0.0         0.0            7        506   \n",
       "3        997.1       0.0         0.0            9        472   \n",
       "4        997.3       0.0         0.0            9        366   \n",
       "\n",
       "   Ground temperature  \n",
       "0                22.6  \n",
       "1                23.1  \n",
       "2                23.1  \n",
       "3                23.0  \n",
       "4                22.2  "
      ]
     },
     "execution_count": 17,
     "metadata": {},
     "output_type": "execute_result"
    }
   ],
   "source": [
    "plus_data.head()"
   ]
  },
  {
   "cell_type": "code",
   "execution_count": 16,
   "metadata": {},
   "outputs": [
    {
     "ename": "NameError",
     "evalue": "name 'corr' is not defined",
     "output_type": "error",
     "traceback": [
      "\u001b[1;31m---------------------------------------------------------------------------\u001b[0m",
      "\u001b[1;31mNameError\u001b[0m                                 Traceback (most recent call last)",
      "\u001b[1;32m<ipython-input-16-2e2e27b69950>\u001b[0m in \u001b[0;36m<module>\u001b[1;34m\u001b[0m\n\u001b[0;32m      2\u001b[0m \u001b[0mf\u001b[0m\u001b[1;33m,\u001b[0m \u001b[0max\u001b[0m \u001b[1;33m=\u001b[0m \u001b[0mplt\u001b[0m\u001b[1;33m.\u001b[0m\u001b[0msubplots\u001b[0m\u001b[1;33m(\u001b[0m\u001b[0mfigsize\u001b[0m\u001b[1;33m=\u001b[0m\u001b[1;33m(\u001b[0m\u001b[1;36m12\u001b[0m\u001b[1;33m,\u001b[0m\u001b[1;36m8\u001b[0m\u001b[1;33m)\u001b[0m\u001b[1;33m)\u001b[0m\u001b[1;33m\u001b[0m\u001b[1;33m\u001b[0m\u001b[0m\n\u001b[0;32m      3\u001b[0m \u001b[0mplt\u001b[0m\u001b[1;33m.\u001b[0m\u001b[0mtitle\u001b[0m\u001b[1;33m(\u001b[0m\u001b[1;34m\"Data Correlation\"\u001b[0m\u001b[1;33m,\u001b[0m \u001b[0mfontsize\u001b[0m\u001b[1;33m=\u001b[0m\u001b[1;36m30\u001b[0m\u001b[1;33m,\u001b[0m \u001b[0mposition\u001b[0m\u001b[1;33m=\u001b[0m\u001b[1;33m(\u001b[0m\u001b[1;36m0.5\u001b[0m\u001b[1;33m,\u001b[0m \u001b[1;36m1.0\u001b[0m\u001b[1;33m+\u001b[0m\u001b[1;36m0.05\u001b[0m\u001b[1;33m)\u001b[0m\u001b[1;33m)\u001b[0m\u001b[1;33m\u001b[0m\u001b[1;33m\u001b[0m\u001b[0m\n\u001b[1;32m----> 4\u001b[1;33m \u001b[0msns\u001b[0m\u001b[1;33m.\u001b[0m\u001b[0mheatmap\u001b[0m\u001b[1;33m(\u001b[0m\u001b[0mcorr\u001b[0m\u001b[1;33m,\u001b[0m \u001b[0mannot\u001b[0m\u001b[1;33m=\u001b[0m\u001b[1;32mTrue\u001b[0m\u001b[1;33m,\u001b[0m \u001b[0mfmt\u001b[0m\u001b[1;33m=\u001b[0m\u001b[1;34m'.2f'\u001b[0m\u001b[1;33m,\u001b[0m \u001b[0mlinewidths\u001b[0m\u001b[1;33m=\u001b[0m\u001b[1;36m.5\u001b[0m\u001b[1;33m,\u001b[0m \u001b[0max\u001b[0m\u001b[1;33m=\u001b[0m\u001b[0max\u001b[0m\u001b[1;33m,\u001b[0m \u001b[0mcmap\u001b[0m\u001b[1;33m=\u001b[0m\u001b[1;34m'YlGnBu'\u001b[0m\u001b[1;33m)\u001b[0m\u001b[1;33m\u001b[0m\u001b[1;33m\u001b[0m\u001b[0m\n\u001b[0m\u001b[0;32m      5\u001b[0m \u001b[0mplt\u001b[0m\u001b[1;33m.\u001b[0m\u001b[0mshow\u001b[0m\u001b[1;33m(\u001b[0m\u001b[1;33m)\u001b[0m\u001b[1;33m\u001b[0m\u001b[1;33m\u001b[0m\u001b[0m\n",
      "\u001b[1;31mNameError\u001b[0m: name 'corr' is not defined"
     ]
    },
    {
     "data": {
      "image/png": "[encoded data removed]",
      "text/plain": [
       "<Figure size 864x576 with 1 Axes>"
      ]
     },
     "metadata": {
      "needs_background": "light"
     },
     "output_type": "display_data"
    }
   ],
   "source": [
    "# Draw a heatmap with the numeric values in each cell\n",
    "f, ax = plt.subplots(figsize=(12,8))\n",
    "plt.title(\"Data Correlation\", fontsize=30, position=(0.5, 1.0+0.05))\n",
    "sns.heatmap(corr, annot=True, fmt='.2f', linewidths=.5, ax=ax, cmap='YlGnBu')\n",
    "plt.show()"
   ]
  },
  {
   "cell_type": "code",
   "execution_count": 15,
   "metadata": {},
   "outputs": [
    {
     "data": {
      "text/plain": [
       "Date                  8782\n",
       "Time                  8782\n",
       "Solar                 8710\n",
       "Temperature           8782\n",
       "Wind Speed            8782\n",
       "Wind                  8782\n",
       "Humidity              8782\n",
       "atmospheric           8782\n",
       "sunshine              8782\n",
       "Insolation            8782\n",
       "Total cloud           8782\n",
       "Municipal             8782\n",
       "Ground temperature    8782\n",
       "dtype: int64"
      ]
     },
     "execution_count": 15,
     "metadata": {},
     "output_type": "execute_result"
    }
   ],
   "source": [
    "# solar의 72개의 데이터를 예측해야한다.\n",
    "plus_data.count()"
   ]
  },
  {
   "cell_type": "markdown",
   "metadata": {},
   "source": [
    "지면 온도와 일조,일사량과 발전량의 상관관계가 0.5보다 높게 나타났다."
   ]
  },
  {
   "cell_type": "code",
   "execution_count": 14,
   "metadata": {},
   "outputs": [],
   "source": [
    "data = plus_data['Solar'].groupby(plus_data['Date']).sum()\n",
    "data = pd.DataFrame(data)"
   ]
  },
  {
   "cell_type": "code",
   "execution_count": 13,
   "metadata": {},
   "outputs": [],
   "source": [
    "data_train=data.loc[start_date_train:end_date_train]\n",
    "data_test=data.loc[start_date_test:,]"
   ]
  },
  {
   "cell_type": "code",
   "execution_count": 12,
   "metadata": {},
   "outputs": [
    {
     "ename": "NameError",
     "evalue": "name 'data_train' is not defined",
     "output_type": "error",
     "traceback": [
      "\u001b[1;31m---------------------------------------------------------------------------\u001b[0m",
      "\u001b[1;31mNameError\u001b[0m                                 Traceback (most recent call last)",
      "\u001b[1;32m<ipython-input-12-489e48ec9295>\u001b[0m in \u001b[0;36m<module>\u001b[1;34m\u001b[0m\n\u001b[1;32m----> 1\u001b[1;33m \u001b[0mprint\u001b[0m\u001b[1;33m(\u001b[0m\u001b[0mdata_train\u001b[0m\u001b[1;33m.\u001b[0m\u001b[0mshape\u001b[0m\u001b[1;33m)\u001b[0m\u001b[1;33m\u001b[0m\u001b[1;33m\u001b[0m\u001b[0m\n\u001b[0m\u001b[0;32m      2\u001b[0m \u001b[0mdata_train\u001b[0m\u001b[1;33m.\u001b[0m\u001b[0mhead\u001b[0m\u001b[1;33m(\u001b[0m\u001b[1;36m10\u001b[0m\u001b[1;33m)\u001b[0m\u001b[1;33m\u001b[0m\u001b[1;33m\u001b[0m\u001b[0m\n",
      "\u001b[1;31mNameError\u001b[0m: name 'data_train' is not defined"
     ]
    }
   ],
   "source": [
    "print(data_train.shape)\n",
    "data_train.head(10)"
   ]
  },
  {
   "cell_type": "code",
   "execution_count": null,
   "metadata": {},
   "outputs": [],
   "source": [
    "sns.pairplot(plus_data[['sunshine','Humidity','Insolation','Ground temperature','Temperature','Solar']])\n",
    "plt.show()"
   ]
  },
  {
   "cell_type": "code",
   "execution_count": 11,
   "metadata": {},
   "outputs": [],
   "source": [
    "start_date_train = '2019-07-01'\n",
    "end_date_train = '2019-12-31'\n",
    "start_date_test = '2020-01-01'\n",
    "end_date_test = '2020-06-29'"
   ]
  },
  {
   "cell_type": "code",
   "execution_count": null,
   "metadata": {},
   "outputs": [],
   "source": []
  },
  {
   "cell_type": "code",
   "execution_count": null,
   "metadata": {},
   "outputs": [],
   "source": []
  },
  {
   "cell_type": "code",
   "execution_count": null,
   "metadata": {},
   "outputs": [],
   "source": []
  },
  {
   "cell_type": "code",
   "execution_count": null,
   "metadata": {},
   "outputs": [],
   "source": []
  },
  {
   "cell_type": "code",
   "execution_count": null,
   "metadata": {},
   "outputs": [],
   "source": []
  },
  {
   "cell_type": "code",
   "execution_count": null,
   "metadata": {},
   "outputs": [],
   "source": []
  },
  {
   "cell_type": "code",
   "execution_count": null,
   "metadata": {},
   "outputs": [],
   "source": []
  },
  {
   "cell_type": "code",
   "execution_count": null,
   "metadata": {},
   "outputs": [],
   "source": []
  },
  {
   "cell_type": "code",
   "execution_count": null,
   "metadata": {},
   "outputs": [],
   "source": []
  },
  {
   "cell_type": "code",
   "execution_count": null,
   "metadata": {},
   "outputs": [],
   "source": []
  },
  {
   "cell_type": "code",
   "execution_count": null,
   "metadata": {},
   "outputs": [],
   "source": []
  },
  {
   "cell_type": "code",
   "execution_count": null,
   "metadata": {},
   "outputs": [],
   "source": []
  },
  {
   "cell_type": "code",
   "execution_count": null,
   "metadata": {},
   "outputs": [],
   "source": []
  },
  {
   "cell_type": "code",
   "execution_count": null,
   "metadata": {},
   "outputs": [],
   "source": []
  },
  {
   "cell_type": "code",
   "execution_count": null,
   "metadata": {},
   "outputs": [],
   "source": [
    "# data\n",
    "def utc_change (string) : \n",
    "    year = string[:4]\n",
    "    month = string[5:7]\n",
    "    day = string[8:10]\n",
    "    hour = string[11:13]\n",
    "    if hour in \":\" :\n",
    "        hour == int(string[11:12])\n",
    "    else : \n",
    "        hour == int(string[11:13])\n",
    "    minute = string[14:16]\n",
    "    second = string[17:19]\n",
    "    \n",
    "    date = year + \"-\" + month + \"-\" + day + \" \" + str(hour)\n",
    "\n",
    "    return date\n",
    "utc_change(data.loc[0][\"date\"])"
   ]
  },
  {
   "cell_type": "code",
   "execution_count": null,
   "metadata": {},
   "outputs": [],
   "source": [
    "data['date'] = data['date'].apply(lambda x :utc_change(x))"
   ]
  },
  {
   "cell_type": "code",
   "execution_count": null,
   "metadata": {},
   "outputs": [],
   "source": [
    "data['date'] = pd.to_datetime(data['date'])"
   ]
  },
  {
   "cell_type": "code",
   "execution_count": null,
   "metadata": {},
   "outputs": [],
   "source": []
  },
  {
   "cell_type": "code",
   "execution_count": null,
   "metadata": {},
   "outputs": [],
   "source": []
  },
  {
   "cell_type": "code",
   "execution_count": null,
   "metadata": {},
   "outputs": [],
   "source": []
  },
  {
   "cell_type": "code",
   "execution_count": null,
   "metadata": {},
   "outputs": [],
   "source": []
  },
  {
   "cell_type": "code",
   "execution_count": null,
   "metadata": {},
   "outputs": [],
   "source": []
  },
  {
   "cell_type": "code",
   "execution_count": null,
   "metadata": {},
   "outputs": [],
   "source": []
  }
 ],
 "metadata": {
  "kernelspec": {
   "display_name": "Python 3",
   "language": "python",
   "name": "python3"
  },
  "language_info": {
   "codemirror_mode": {
    "name": "ipython",
    "version": 3
   },
   "file_extension": ".py",
   "mimetype": "text/x-python",
   "name": "python",
   "nbconvert_exporter": "python",
   "pygments_lexer": "ipython3",
   "version": "3.7.3"
  }
 },
 "nbformat": 4,
 "nbformat_minor": 2
}
