{
 "cells": [
  {
   "cell_type": "code",
   "execution_count": 6,
   "metadata": {},
   "outputs": [],
   "source": [
    "# 패키지 호출\n",
    "import keras\n",
    "import numpy as np\n",
    "from keras import models, layers"
   ]
  },
  {
   "cell_type": "markdown",
   "metadata": {},
   "source": [
    "**models** : 인공신경망의 각 계층을 연결하여 하나의 모델을 만든 후 컴파일, 학습, 예측을 담당한다.\n",
    "\n",
    "**layers** : 인공신경망의 각 계층을 만드는 클래스들을 제공한다."
   ]
  },
  {
   "cell_type": "code",
   "execution_count": 5,
   "metadata": {},
   "outputs": [
    {
     "data": {
      "text/plain": [
       "array([1, 3, 5, 7, 9])"
      ]
     },
     "execution_count": 5,
     "metadata": {},
     "output_type": "execute_result"
    }
   ],
   "source": [
    "# 데이터 지정 \n",
    "x = np.array([0,1,2,3,4])\n",
    "y = x*2 + 1"
   ]
  },
  {
   "cell_type": "markdown",
   "metadata": {},
   "source": [
    "숫자를 예측하는 간단한 인공신경망\n",
    "<br><Br>\n",
    "**입력 계층 1개 노드** --> **완전 연결 계층 1개 노드** --> **출력 계층 1개 노드**\n",
    "    \n",
    "    \n",
    "    \n",
    "**완전 연결 계층** : 입력 벡터에 가중치 벡터를 내적하고 편향값을 빼주는 동작을 한다."
   ]
  },
  {
   "cell_type": "code",
   "execution_count": 9,
   "metadata": {},
   "outputs": [
    {
     "data": {
      "text/plain": [
       "<keras.engine.sequential.Sequential at 0x2ab3f2a5c88>"
      ]
     },
     "execution_count": 9,
     "metadata": {},
     "output_type": "execute_result"
    }
   ],
   "source": [
    "# 케라스로 인공신경망 모델을 만들기 시작했음을 파이썬 프로세스에게 알림.\n",
    "model = keras.models.Sequential()"
   ]
  },
  {
   "cell_type": "markdown",
   "metadata": {},
   "source": [
    "models.Sequential은 파이썬의 클래스이며 model이라는 인스턴스를 만든다.\n",
    "\n",
    "**인스턴스** : 해당 클래스의 구조로 컴퓨터 저장공간에서 할당된 실체를 의미한다."
   ]
  },
  {
   "cell_type": "code",
   "execution_count": 11,
   "metadata": {},
   "outputs": [],
   "source": [
    "# model 인스턴스에 인공지능 계층을 추가.\n",
    "model.add(keras.layers.Dense(1,input_shape = (1,)))"
   ]
  },
  {
   "cell_type": "markdown",
   "metadata": {},
   "source": [
    "추가한 인공지는 계층은 입력노드 하나와 가중치 하나를 가지는 선형 처리 계층이다.\n",
    "\n",
    "\n",
    "**Dense** : 입출력을 모두 연결해주는 레이어이다.<br>\n",
    "ex) Dense(16, input_dim=4, init='uniform', activation='linear'))\n",
    "\n",
    "Dense의 주요 인자 \n",
    "***\n",
    "**첫번째 인자** : 출력 뉴런의 수를 설정\n",
    "\n",
    "**"
   ]
  },
  {
   "cell_type": "code",
   "execution_count": null,
   "metadata": {},
   "outputs": [],
   "source": []
  },
  {
   "cell_type": "code",
   "execution_count": null,
   "metadata": {},
   "outputs": [],
   "source": []
  },
  {
   "cell_type": "code",
   "execution_count": null,
   "metadata": {},
   "outputs": [],
   "source": []
  },
  {
   "cell_type": "code",
   "execution_count": null,
   "metadata": {},
   "outputs": [],
   "source": []
  },
  {
   "cell_type": "code",
   "execution_count": null,
   "metadata": {},
   "outputs": [],
   "source": []
  }
 ],
 "metadata": {
  "kernelspec": {
   "display_name": "Python 3",
   "language": "python",
   "name": "python3"
  },
  "language_info": {
   "codemirror_mode": {
    "name": "ipython",
    "version": 3
   },
   "file_extension": ".py",
   "mimetype": "text/x-python",
   "name": "python",
   "nbconvert_exporter": "python",
   "pygments_lexer": "ipython3",
   "version": "3.7.3"
  }
 },
 "nbformat": 4,
 "nbformat_minor": 2
}
