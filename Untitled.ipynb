{
 "cells": [
  {
   "cell_type": "markdown",
   "metadata": {},
   "source": [
    "### 과적합(overfitting)\n",
    "\n",
    "- ex) 시험문제를 족보 그대로 냈을경우 그 시험의 성적은 좋더라도 다른 유형의 문제가 나올시 그 문제에 적용시키기가 어려울 것이다.<br><br>\n",
    "이때 과거의 문제는 **과적합**되었고,  그동안 획득된 지식들은 미래의 시험 문제들을 푸는 데 **일반화**되지 않은 것이라고 말할 수 있다.\n"
   ]
  },
  {
   "cell_type": "markdown",
   "metadata": {},
   "source": [
    "### underfitting\n",
    "\n",
    "- 학습이 잘 안되는 경우를 의미<br>\n",
    "ex) 운동장에서 줄을 서있고 뒷사람에게 말을 전달할 경우"
   ]
  }
 ],
 "metadata": {
  "kernelspec": {
   "display_name": "Python 3",
   "language": "python",
   "name": "python3"
  },
  "language_info": {
   "codemirror_mode": {
    "name": "ipython",
    "version": 3
   },
   "file_extension": ".py",
   "mimetype": "text/x-python",
   "name": "python",
   "nbconvert_exporter": "python",
   "pygments_lexer": "ipython3",
   "version": "3.7.3"
  }
 },
 "nbformat": 4,
 "nbformat_minor": 2
}
